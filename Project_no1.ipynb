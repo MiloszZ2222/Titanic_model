{
 "cells": [
  {
   "cell_type": "markdown",
   "id": "8668bf10-8e98-4ee2-a1cc-021b87f4e6a1",
   "metadata": {},
   "source": [
    "# Titanic project"
   ]
  },
  {
   "cell_type": "markdown",
   "id": "6b38c0cf-c745-49fa-b49a-eac7a64de8d2",
   "metadata": {},
   "source": [
    "#### I will try to predict survivors on Titanic. It is based on dataset from Kaggle https://www.kaggle.com/c/titanic. But I will use only train set, because I don't know correct predictions for test set."
   ]
  },
  {
   "cell_type": "code",
   "execution_count": 3,
   "id": "ad033d63-fa4d-4ebe-b8e8-465b86d9dc97",
   "metadata": {},
   "outputs": [],
   "source": [
    "import pandas as pd\n",
    "import numpy as np\n",
    "import matplotlib.pyplot as plt\n",
    "import seaborn as sns\n",
    "%matplotlib inline"
   ]
  },
  {
   "cell_type": "code",
   "execution_count": 5,
   "id": "564f8266-9ad8-497a-bd60-232a7703203e",
   "metadata": {},
   "outputs": [
    {
     "data": {
      "text/html": [
       "<div>\n",
       "<style scoped>\n",
       "    .dataframe tbody tr th:only-of-type {\n",
       "        vertical-align: middle;\n",
       "    }\n",
       "\n",
       "    .dataframe tbody tr th {\n",
       "        vertical-align: top;\n",
       "    }\n",
       "\n",
       "    .dataframe thead th {\n",
       "        text-align: right;\n",
       "    }\n",
       "</style>\n",
       "<table border=\"1\" class=\"dataframe\">\n",
       "  <thead>\n",
       "    <tr style=\"text-align: right;\">\n",
       "      <th></th>\n",
       "      <th>PassengerId</th>\n",
       "      <th>Survived</th>\n",
       "      <th>Pclass</th>\n",
       "      <th>Name</th>\n",
       "      <th>Sex</th>\n",
       "      <th>Age</th>\n",
       "      <th>SibSp</th>\n",
       "      <th>Parch</th>\n",
       "      <th>Ticket</th>\n",
       "      <th>Fare</th>\n",
       "      <th>Cabin</th>\n",
       "      <th>Embarked</th>\n",
       "    </tr>\n",
       "  </thead>\n",
       "  <tbody>\n",
       "    <tr>\n",
       "      <th>0</th>\n",
       "      <td>1</td>\n",
       "      <td>0</td>\n",
       "      <td>3</td>\n",
       "      <td>Braund, Mr. Owen Harris</td>\n",
       "      <td>male</td>\n",
       "      <td>22.0</td>\n",
       "      <td>1</td>\n",
       "      <td>0</td>\n",
       "      <td>A/5 21171</td>\n",
       "      <td>7.2500</td>\n",
       "      <td>NaN</td>\n",
       "      <td>S</td>\n",
       "    </tr>\n",
       "    <tr>\n",
       "      <th>1</th>\n",
       "      <td>2</td>\n",
       "      <td>1</td>\n",
       "      <td>1</td>\n",
       "      <td>Cumings, Mrs. John Bradley (Florence Briggs Th...</td>\n",
       "      <td>female</td>\n",
       "      <td>38.0</td>\n",
       "      <td>1</td>\n",
       "      <td>0</td>\n",
       "      <td>PC 17599</td>\n",
       "      <td>71.2833</td>\n",
       "      <td>C85</td>\n",
       "      <td>C</td>\n",
       "    </tr>\n",
       "    <tr>\n",
       "      <th>2</th>\n",
       "      <td>3</td>\n",
       "      <td>1</td>\n",
       "      <td>3</td>\n",
       "      <td>Heikkinen, Miss. Laina</td>\n",
       "      <td>female</td>\n",
       "      <td>26.0</td>\n",
       "      <td>0</td>\n",
       "      <td>0</td>\n",
       "      <td>STON/O2. 3101282</td>\n",
       "      <td>7.9250</td>\n",
       "      <td>NaN</td>\n",
       "      <td>S</td>\n",
       "    </tr>\n",
       "    <tr>\n",
       "      <th>3</th>\n",
       "      <td>4</td>\n",
       "      <td>1</td>\n",
       "      <td>1</td>\n",
       "      <td>Futrelle, Mrs. Jacques Heath (Lily May Peel)</td>\n",
       "      <td>female</td>\n",
       "      <td>35.0</td>\n",
       "      <td>1</td>\n",
       "      <td>0</td>\n",
       "      <td>113803</td>\n",
       "      <td>53.1000</td>\n",
       "      <td>C123</td>\n",
       "      <td>S</td>\n",
       "    </tr>\n",
       "    <tr>\n",
       "      <th>4</th>\n",
       "      <td>5</td>\n",
       "      <td>0</td>\n",
       "      <td>3</td>\n",
       "      <td>Allen, Mr. William Henry</td>\n",
       "      <td>male</td>\n",
       "      <td>35.0</td>\n",
       "      <td>0</td>\n",
       "      <td>0</td>\n",
       "      <td>373450</td>\n",
       "      <td>8.0500</td>\n",
       "      <td>NaN</td>\n",
       "      <td>S</td>\n",
       "    </tr>\n",
       "  </tbody>\n",
       "</table>\n",
       "</div>"
      ],
      "text/plain": [
       "   PassengerId  Survived  Pclass  \\\n",
       "0            1         0       3   \n",
       "1            2         1       1   \n",
       "2            3         1       3   \n",
       "3            4         1       1   \n",
       "4            5         0       3   \n",
       "\n",
       "                                                Name     Sex   Age  SibSp  \\\n",
       "0                            Braund, Mr. Owen Harris    male  22.0      1   \n",
       "1  Cumings, Mrs. John Bradley (Florence Briggs Th...  female  38.0      1   \n",
       "2                             Heikkinen, Miss. Laina  female  26.0      0   \n",
       "3       Futrelle, Mrs. Jacques Heath (Lily May Peel)  female  35.0      1   \n",
       "4                           Allen, Mr. William Henry    male  35.0      0   \n",
       "\n",
       "   Parch            Ticket     Fare Cabin Embarked  \n",
       "0      0         A/5 21171   7.2500   NaN        S  \n",
       "1      0          PC 17599  71.2833   C85        C  \n",
       "2      0  STON/O2. 3101282   7.9250   NaN        S  \n",
       "3      0            113803  53.1000  C123        S  \n",
       "4      0            373450   8.0500   NaN        S  "
      ]
     },
     "execution_count": 5,
     "metadata": {},
     "output_type": "execute_result"
    }
   ],
   "source": [
    "df=pd.read_csv('Titanic_train.csv')\n",
    "df.head()"
   ]
  },
  {
   "cell_type": "code",
   "execution_count": 7,
   "id": "9d6d284f-5195-4e49-a135-b16d224c7879",
   "metadata": {},
   "outputs": [
    {
     "name": "stdout",
     "output_type": "stream",
     "text": [
      "<class 'pandas.core.frame.DataFrame'>\n",
      "RangeIndex: 891 entries, 0 to 890\n",
      "Data columns (total 12 columns):\n",
      " #   Column       Non-Null Count  Dtype  \n",
      "---  ------       --------------  -----  \n",
      " 0   PassengerId  891 non-null    int64  \n",
      " 1   Survived     891 non-null    int64  \n",
      " 2   Pclass       891 non-null    int64  \n",
      " 3   Name         891 non-null    object \n",
      " 4   Sex          891 non-null    object \n",
      " 5   Age          714 non-null    float64\n",
      " 6   SibSp        891 non-null    int64  \n",
      " 7   Parch        891 non-null    int64  \n",
      " 8   Ticket       891 non-null    object \n",
      " 9   Fare         891 non-null    float64\n",
      " 10  Cabin        204 non-null    object \n",
      " 11  Embarked     889 non-null    object \n",
      "dtypes: float64(2), int64(5), object(5)\n",
      "memory usage: 83.7+ KB\n"
     ]
    }
   ],
   "source": [
    "df.info()"
   ]
  },
  {
   "cell_type": "code",
   "execution_count": 9,
   "id": "d3c43439-f916-4fb0-980c-e4bf43641a7c",
   "metadata": {},
   "outputs": [
    {
     "data": {
      "text/html": [
       "<div>\n",
       "<style scoped>\n",
       "    .dataframe tbody tr th:only-of-type {\n",
       "        vertical-align: middle;\n",
       "    }\n",
       "\n",
       "    .dataframe tbody tr th {\n",
       "        vertical-align: top;\n",
       "    }\n",
       "\n",
       "    .dataframe thead th {\n",
       "        text-align: right;\n",
       "    }\n",
       "</style>\n",
       "<table border=\"1\" class=\"dataframe\">\n",
       "  <thead>\n",
       "    <tr style=\"text-align: right;\">\n",
       "      <th></th>\n",
       "      <th>PassengerId</th>\n",
       "      <th>Survived</th>\n",
       "      <th>Pclass</th>\n",
       "      <th>Age</th>\n",
       "      <th>SibSp</th>\n",
       "      <th>Parch</th>\n",
       "      <th>Fare</th>\n",
       "    </tr>\n",
       "  </thead>\n",
       "  <tbody>\n",
       "    <tr>\n",
       "      <th>count</th>\n",
       "      <td>891.000000</td>\n",
       "      <td>891.000000</td>\n",
       "      <td>891.000000</td>\n",
       "      <td>714.000000</td>\n",
       "      <td>891.000000</td>\n",
       "      <td>891.000000</td>\n",
       "      <td>891.000000</td>\n",
       "    </tr>\n",
       "    <tr>\n",
       "      <th>mean</th>\n",
       "      <td>446.000000</td>\n",
       "      <td>0.383838</td>\n",
       "      <td>2.308642</td>\n",
       "      <td>29.699118</td>\n",
       "      <td>0.523008</td>\n",
       "      <td>0.381594</td>\n",
       "      <td>32.204208</td>\n",
       "    </tr>\n",
       "    <tr>\n",
       "      <th>std</th>\n",
       "      <td>257.353842</td>\n",
       "      <td>0.486592</td>\n",
       "      <td>0.836071</td>\n",
       "      <td>14.526497</td>\n",
       "      <td>1.102743</td>\n",
       "      <td>0.806057</td>\n",
       "      <td>49.693429</td>\n",
       "    </tr>\n",
       "    <tr>\n",
       "      <th>min</th>\n",
       "      <td>1.000000</td>\n",
       "      <td>0.000000</td>\n",
       "      <td>1.000000</td>\n",
       "      <td>0.420000</td>\n",
       "      <td>0.000000</td>\n",
       "      <td>0.000000</td>\n",
       "      <td>0.000000</td>\n",
       "    </tr>\n",
       "    <tr>\n",
       "      <th>25%</th>\n",
       "      <td>223.500000</td>\n",
       "      <td>0.000000</td>\n",
       "      <td>2.000000</td>\n",
       "      <td>20.125000</td>\n",
       "      <td>0.000000</td>\n",
       "      <td>0.000000</td>\n",
       "      <td>7.910400</td>\n",
       "    </tr>\n",
       "    <tr>\n",
       "      <th>50%</th>\n",
       "      <td>446.000000</td>\n",
       "      <td>0.000000</td>\n",
       "      <td>3.000000</td>\n",
       "      <td>28.000000</td>\n",
       "      <td>0.000000</td>\n",
       "      <td>0.000000</td>\n",
       "      <td>14.454200</td>\n",
       "    </tr>\n",
       "    <tr>\n",
       "      <th>75%</th>\n",
       "      <td>668.500000</td>\n",
       "      <td>1.000000</td>\n",
       "      <td>3.000000</td>\n",
       "      <td>38.000000</td>\n",
       "      <td>1.000000</td>\n",
       "      <td>0.000000</td>\n",
       "      <td>31.000000</td>\n",
       "    </tr>\n",
       "    <tr>\n",
       "      <th>max</th>\n",
       "      <td>891.000000</td>\n",
       "      <td>1.000000</td>\n",
       "      <td>3.000000</td>\n",
       "      <td>80.000000</td>\n",
       "      <td>8.000000</td>\n",
       "      <td>6.000000</td>\n",
       "      <td>512.329200</td>\n",
       "    </tr>\n",
       "  </tbody>\n",
       "</table>\n",
       "</div>"
      ],
      "text/plain": [
       "       PassengerId    Survived      Pclass         Age       SibSp  \\\n",
       "count   891.000000  891.000000  891.000000  714.000000  891.000000   \n",
       "mean    446.000000    0.383838    2.308642   29.699118    0.523008   \n",
       "std     257.353842    0.486592    0.836071   14.526497    1.102743   \n",
       "min       1.000000    0.000000    1.000000    0.420000    0.000000   \n",
       "25%     223.500000    0.000000    2.000000   20.125000    0.000000   \n",
       "50%     446.000000    0.000000    3.000000   28.000000    0.000000   \n",
       "75%     668.500000    1.000000    3.000000   38.000000    1.000000   \n",
       "max     891.000000    1.000000    3.000000   80.000000    8.000000   \n",
       "\n",
       "            Parch        Fare  \n",
       "count  891.000000  891.000000  \n",
       "mean     0.381594   32.204208  \n",
       "std      0.806057   49.693429  \n",
       "min      0.000000    0.000000  \n",
       "25%      0.000000    7.910400  \n",
       "50%      0.000000   14.454200  \n",
       "75%      0.000000   31.000000  \n",
       "max      6.000000  512.329200  "
      ]
     },
     "execution_count": 9,
     "metadata": {},
     "output_type": "execute_result"
    }
   ],
   "source": [
    "df.describe()"
   ]
  },
  {
   "cell_type": "markdown",
   "id": "4b11fc78-eab9-4b68-898a-ace96723c853",
   "metadata": {},
   "source": [
    "## Exploratory Data Analysis"
   ]
  },
  {
   "cell_type": "code",
   "execution_count": 11,
   "id": "c65d59fc-e410-4d03-b321-77901fd5ca7c",
   "metadata": {},
   "outputs": [
    {
     "data": {
      "image/png": "[encoded data removed]",
      "text/plain": [
       "<Figure size 640x480 with 1 Axes>"
      ]
     },
     "metadata": {},
     "output_type": "display_data"
    }
   ],
   "source": [
    "sns.heatmap(df.isnull(),yticklabels=False,cbar=False,cmap='viridis')\n",
    "plt.show()"
   ]
  },
  {
   "cell_type": "markdown",
   "id": "6523a414-c1ed-4626-bae5-15c188a36eac",
   "metadata": {},
   "source": [
    "We should replace null cells from Age column and remove Cabin ( too many null cells)."
   ]
  },
  {
   "cell_type": "code",
   "execution_count": 13,
   "id": "1042610c-38c0-4d5e-8911-349aeee381fc",
   "metadata": {},
   "outputs": [
    {
     "data": {
      "image/png": "[encoded data removed]",
      "text/plain": [
       "<Figure size 640x480 with 1 Axes>"
      ]
     },
     "metadata": {},
     "output_type": "display_data"
    }
   ],
   "source": [
    "sns.countplot(x='Survived',hue='Sex',data=df)\n",
    "plt.show()"
   ]
  },
  {
   "cell_type": "markdown",
   "id": "d249fd2a-20fb-4bcf-9fe5-b131810a5ce1",
   "metadata": {},
   "source": [
    "More woman than man survived. There is a huge difference between male and female that not survived."
   ]
  },
  {
   "cell_type": "code",
   "execution_count": 15,
   "id": "4c190709-0650-4380-87b9-a55d35986efc",
   "metadata": {},
   "outputs": [
    {
     "data": {
      "image/png": "[encoded data removed]",
      "text/plain": [
       "<Figure size 640x480 with 1 Axes>"
      ]
     },
     "metadata": {},
     "output_type": "display_data"
    }
   ],
   "source": [
    "sns.countplot(x='Survived',hue='Pclass',data=df)\n",
    "plt.show()"
   ]
  },
  {
   "cell_type": "markdown",
   "id": "34d34124-aa95-4b00-8ce6-85e478e1a5cc",
   "metadata": {},
   "source": [
    "The most people didn't survive who had the lowest class."
   ]
  },
  {
   "cell_type": "code",
   "execution_count": 17,
   "id": "aca33182-e293-4ed5-97f3-f878f2f36f96",
   "metadata": {},
   "outputs": [
    {
     "data": {
      "image/png": "[encoded data removed]",
      "text/plain": [
       "<Figure size 640x480 with 1 Axes>"
      ]
     },
     "metadata": {},
     "output_type": "display_data"
    }
   ],
   "source": [
    "sns.histplot(df['Age'].dropna())\n",
    "plt.show()"
   ]
  },
  {
   "cell_type": "code",
   "execution_count": 19,
   "id": "7f082bdc-9532-4606-ad00-44660ff01c7c",
   "metadata": {},
   "outputs": [
    {
     "data": {
      "text/plain": [
       "0.38910778230082704"
      ]
     },
     "execution_count": 19,
     "metadata": {},
     "output_type": "execute_result"
    }
   ],
   "source": [
    "df['Age'].skew()"
   ]
  },
  {
   "cell_type": "markdown",
   "id": "b6aba587-5192-4586-9eb1-6f7ad4b429a1",
   "metadata": {},
   "source": [
    "Skewed right - most of passengers were between 20 and 40. There were also many children on board. "
   ]
  },
  {
   "cell_type": "code",
   "execution_count": 21,
   "id": "4b7e6727-b736-44a1-b47e-1bc929b44352",
   "metadata": {},
   "outputs": [
    {
     "data": {
      "image/png": "[encoded data removed]",
      "text/plain": [
       "<Figure size 640x480 with 1 Axes>"
      ]
     },
     "metadata": {},
     "output_type": "display_data"
    }
   ],
   "source": [
    "sns.histplot(df['Fare'],bins=30)\n",
    "plt.show()"
   ]
  },
  {
   "cell_type": "code",
   "execution_count": 23,
   "id": "3b8dc574-b2af-4838-8664-23220af4216b",
   "metadata": {},
   "outputs": [
    {
     "data": {
      "text/plain": [
       "4.787316519674893"
      ]
     },
     "execution_count": 23,
     "metadata": {},
     "output_type": "execute_result"
    }
   ],
   "source": [
    "df['Fare'].skew()"
   ]
  },
  {
   "cell_type": "markdown",
   "id": "4c59a8bf-0e5c-48eb-a181-a0e3bcb77a61",
   "metadata": {},
   "source": [
    "Extreme skewed right. Most tickets had low prices. There were few very expensive tickets, which cause a long tail of the distribution."
   ]
  },
  {
   "cell_type": "markdown",
   "id": "f134dfcb-17c0-42f2-9c9b-87ca94f7bb6f",
   "metadata": {},
   "source": [
    "## Replace null values in the Age column"
   ]
  },
  {
   "cell_type": "code",
   "execution_count": 25,
   "id": "f9993cc7-54cc-4fc1-a4ad-308253aaae35",
   "metadata": {},
   "outputs": [],
   "source": [
    "def replacing_null(df):\n",
    "    pclass_grouped=df.groupby('Pclass')['Age'].transform('median')\n",
    "    df['Age']=df['Age'].fillna(pclass_grouped)\n",
    "    return df"
   ]
  },
  {
   "cell_type": "code",
   "execution_count": 27,
   "id": "2db7049a-e4bc-45bd-b7f6-fb615a0cecd4",
   "metadata": {},
   "outputs": [],
   "source": [
    "df=replacing_null(df)\n",
    "df=df.drop(['Cabin','PassengerId','Ticket','Name'],axis=1)"
   ]
  },
  {
   "cell_type": "code",
   "execution_count": 29,
   "id": "afd2fdff-2af8-471f-a45e-891a5b5dde9c",
   "metadata": {},
   "outputs": [
    {
     "data": {
      "image/png": "[encoded data removed]",
      "text/plain": [
       "<Figure size 640x480 with 1 Axes>"
      ]
     },
     "metadata": {},
     "output_type": "display_data"
    }
   ],
   "source": [
    "sns.heatmap(df.isnull(),yticklabels=False,cbar=False,cmap='viridis')\n",
    "plt.show()"
   ]
  },
  {
   "cell_type": "markdown",
   "id": "5c56b3c0-b88f-487b-9def-98c8f491b099",
   "metadata": {},
   "source": [
    "Now, dataset doesn't have any empty cells."
   ]
  },
  {
   "cell_type": "markdown",
   "id": "996622bc-b6f7-40a8-9ee1-6b033f58bfda",
   "metadata": {},
   "source": [
    "## Another prep data"
   ]
  },
  {
   "cell_type": "code",
   "execution_count": 31,
   "id": "3801896b-95be-40b9-8643-bb808ddbf2b7",
   "metadata": {},
   "outputs": [],
   "source": [
    "df['family']=df['SibSp']+df['Parch']+1"
   ]
  },
  {
   "cell_type": "code",
   "execution_count": 33,
   "id": "c5099f81-f5aa-4dae-95f2-13a1a274889b",
   "metadata": {},
   "outputs": [],
   "source": [
    "df=pd.get_dummies(df,columns=['Sex'],drop_first=True)\n",
    "df=pd.get_dummies(df,columns=['Embarked'],drop_first=True)"
   ]
  },
  {
   "cell_type": "code",
   "execution_count": 35,
   "id": "4efc3b89-aad6-42da-8c3d-3eed6769e28f",
   "metadata": {},
   "outputs": [
    {
     "data": {
      "text/html": [
       "<div>\n",
       "<style scoped>\n",
       "    .dataframe tbody tr th:only-of-type {\n",
       "        vertical-align: middle;\n",
       "    }\n",
       "\n",
       "    .dataframe tbody tr th {\n",
       "        vertical-align: top;\n",
       "    }\n",
       "\n",
       "    .dataframe thead th {\n",
       "        text-align: right;\n",
       "    }\n",
       "</style>\n",
       "<table border=\"1\" class=\"dataframe\">\n",
       "  <thead>\n",
       "    <tr style=\"text-align: right;\">\n",
       "      <th></th>\n",
       "      <th>Survived</th>\n",
       "      <th>Pclass</th>\n",
       "      <th>Age</th>\n",
       "      <th>SibSp</th>\n",
       "      <th>Parch</th>\n",
       "      <th>Fare</th>\n",
       "      <th>family</th>\n",
       "      <th>Sex_male</th>\n",
       "      <th>Embarked_Q</th>\n",
       "      <th>Embarked_S</th>\n",
       "    </tr>\n",
       "  </thead>\n",
       "  <tbody>\n",
       "    <tr>\n",
       "      <th>0</th>\n",
       "      <td>0</td>\n",
       "      <td>3</td>\n",
       "      <td>22.0</td>\n",
       "      <td>1</td>\n",
       "      <td>0</td>\n",
       "      <td>7.2500</td>\n",
       "      <td>2</td>\n",
       "      <td>True</td>\n",
       "      <td>False</td>\n",
       "      <td>True</td>\n",
       "    </tr>\n",
       "    <tr>\n",
       "      <th>1</th>\n",
       "      <td>1</td>\n",
       "      <td>1</td>\n",
       "      <td>38.0</td>\n",
       "      <td>1</td>\n",
       "      <td>0</td>\n",
       "      <td>71.2833</td>\n",
       "      <td>2</td>\n",
       "      <td>False</td>\n",
       "      <td>False</td>\n",
       "      <td>False</td>\n",
       "    </tr>\n",
       "    <tr>\n",
       "      <th>2</th>\n",
       "      <td>1</td>\n",
       "      <td>3</td>\n",
       "      <td>26.0</td>\n",
       "      <td>0</td>\n",
       "      <td>0</td>\n",
       "      <td>7.9250</td>\n",
       "      <td>1</td>\n",
       "      <td>False</td>\n",
       "      <td>False</td>\n",
       "      <td>True</td>\n",
       "    </tr>\n",
       "    <tr>\n",
       "      <th>3</th>\n",
       "      <td>1</td>\n",
       "      <td>1</td>\n",
       "      <td>35.0</td>\n",
       "      <td>1</td>\n",
       "      <td>0</td>\n",
       "      <td>53.1000</td>\n",
       "      <td>2</td>\n",
       "      <td>False</td>\n",
       "      <td>False</td>\n",
       "      <td>True</td>\n",
       "    </tr>\n",
       "    <tr>\n",
       "      <th>4</th>\n",
       "      <td>0</td>\n",
       "      <td>3</td>\n",
       "      <td>35.0</td>\n",
       "      <td>0</td>\n",
       "      <td>0</td>\n",
       "      <td>8.0500</td>\n",
       "      <td>1</td>\n",
       "      <td>True</td>\n",
       "      <td>False</td>\n",
       "      <td>True</td>\n",
       "    </tr>\n",
       "  </tbody>\n",
       "</table>\n",
       "</div>"
      ],
      "text/plain": [
       "   Survived  Pclass   Age  SibSp  Parch     Fare  family  Sex_male  \\\n",
       "0         0       3  22.0      1      0   7.2500       2      True   \n",
       "1         1       1  38.0      1      0  71.2833       2     False   \n",
       "2         1       3  26.0      0      0   7.9250       1     False   \n",
       "3         1       1  35.0      1      0  53.1000       2     False   \n",
       "4         0       3  35.0      0      0   8.0500       1      True   \n",
       "\n",
       "   Embarked_Q  Embarked_S  \n",
       "0       False        True  \n",
       "1       False       False  \n",
       "2       False        True  \n",
       "3       False        True  \n",
       "4       False        True  "
      ]
     },
     "execution_count": 35,
     "metadata": {},
     "output_type": "execute_result"
    }
   ],
   "source": [
    "df.head()"
   ]
  },
  {
   "cell_type": "markdown",
   "id": "4b081d0b-234b-4965-bfaf-7f7ed1d1dacd",
   "metadata": {},
   "source": [
    "## Split the dataset into train/test"
   ]
  },
  {
   "cell_type": "code",
   "execution_count": 37,
   "id": "cf87d6ae-7386-410c-9ce1-d85a3b9521a9",
   "metadata": {},
   "outputs": [],
   "source": [
    "from sklearn.model_selection import train_test_split"
   ]
  },
  {
   "cell_type": "code",
   "execution_count": 39,
   "id": "1562d0ed-9b41-41b2-9785-bcece944457a",
   "metadata": {},
   "outputs": [],
   "source": [
    "X=df.drop(columns=['Survived'],axis=1)\n",
    "y=df['Survived']"
   ]
  },
  {
   "cell_type": "code",
   "execution_count": 41,
   "id": "5265c6dc-a407-48db-a1be-a836b3de3327",
   "metadata": {},
   "outputs": [],
   "source": [
    "X_train,X_temp,y_train,y_temp=train_test_split(X,y,train_size=0.7,stratify=y,random_state=2025)\n",
    "X_val,X_test,y_val,y_test=train_test_split(X_temp,y_temp,test_size=0.5,stratify=y_temp,random_state=2025)"
   ]
  },
  {
   "cell_type": "markdown",
   "id": "2b95dc69-fe60-4cea-b676-e8b34125e18b",
   "metadata": {},
   "source": [
    "I used \"stratify\" because it allows me to have steadily balanced datasets, you can see it below."
   ]
  },
  {
   "cell_type": "code",
   "execution_count": 43,
   "id": "974ef4f9-df53-4d1b-8913-307440bcfa81",
   "metadata": {},
   "outputs": [
    {
     "data": {
      "image/png": "[encoded data removed]",
      "text/plain": [
       "<Figure size 1200x400 with 3 Axes>"
      ]
     },
     "metadata": {},
     "output_type": "display_data"
    }
   ],
   "source": [
    "plt.figure(figsize=(12,4))\n",
    "plt.subplot(1,3,1)\n",
    "plt.bar(y_test.value_counts().index,y_train.value_counts())\n",
    "plt.title('Y_train')\n",
    "plt.xticks([0,1])\n",
    "plt.ylabel('count')\n",
    "plt.xlabel('class_survived')\n",
    "\n",
    "plt.subplot(1,3,2)\n",
    "plt.bar(y_val.value_counts().index,y_val.value_counts())\n",
    "plt.title('Y_val')\n",
    "plt.xticks([0,1])\n",
    "plt.ylabel('count')\n",
    "plt.xlabel('class_survived')\n",
    "\n",
    "plt.subplot(1,3,3)\n",
    "plt.bar(y_test.value_counts().index,y_test.value_counts())\n",
    "plt.title('Y_test')\n",
    "plt.xticks([0,1])\n",
    "plt.ylabel('count')\n",
    "plt.xlabel('class_survived')\n",
    "\n",
    "plt.show()"
   ]
  },
  {
   "cell_type": "raw",
   "id": "fa54c0db-ecfe-4074-b012-47942a407605",
   "metadata": {},
   "source": [
    "I didn't delete any outliers, because in my opinion they are useful in this case. It is possible old person could have traveled by Titanic. No variables has negative values therefore in my opinion keeping outliers in this case is ok."
   ]
  },
  {
   "cell_type": "markdown",
   "id": "f11a7038-aead-4495-af34-a8e7945700e0",
   "metadata": {},
   "source": [
    "## Basics models"
   ]
  },
  {
   "cell_type": "markdown",
   "id": "2ec5ec7d-782c-4077-91d1-5e167de4595b",
   "metadata": {},
   "source": [
    "I will build log,random forest and xgb model, then I choose the best one"
   ]
  },
  {
   "cell_type": "markdown",
   "id": "79247298-dc17-428c-9410-2676ab2547e6",
   "metadata": {},
   "source": [
    "#### Log model"
   ]
  },
  {
   "cell_type": "code",
   "execution_count": 45,
   "id": "166cebe2-bf07-4f27-8d71-dfccb890a097",
   "metadata": {},
   "outputs": [],
   "source": [
    "from sklearn.linear_model import LogisticRegression\n",
    "log_model=LogisticRegression(max_iter=1000,random_state=2025)\n",
    "log_model.fit(X_train,y_train)\n",
    "log_model_pred=log_model.predict(X_val)"
   ]
  },
  {
   "cell_type": "markdown",
   "id": "75e6ad83-32ff-48df-a93f-ee5e8a2d2283",
   "metadata": {},
   "source": [
    "#### Random Forest"
   ]
  },
  {
   "cell_type": "code",
   "execution_count": 47,
   "id": "82e75732-8a88-482c-b3bd-51bae384ace2",
   "metadata": {},
   "outputs": [],
   "source": [
    "from sklearn.ensemble import RandomForestClassifier\n",
    "rfc=RandomForestClassifier(random_state=2025)\n",
    "rfc.fit(X_train,y_train)\n",
    "rfc_pred=rfc.predict(X_val)"
   ]
  },
  {
   "cell_type": "markdown",
   "id": "96c6bc1e-5601-4742-9684-10b459ef14e8",
   "metadata": {},
   "source": [
    "#### XGBoost"
   ]
  },
  {
   "cell_type": "code",
   "execution_count": 49,
   "id": "26520172-289e-4883-a5cb-afac092ea811",
   "metadata": {},
   "outputs": [],
   "source": [
    "from xgboost import XGBClassifier\n",
    "xgb=XGBClassifier(random_state=2025)\n",
    "xgb.fit(X_train,y_train)\n",
    "xgb_pred=xgb.predict(X_val)"
   ]
  },
  {
   "cell_type": "code",
   "execution_count": 51,
   "id": "698e1f1e-ab5b-4589-8e68-26a388a94ca2",
   "metadata": {},
   "outputs": [],
   "source": [
    "from sklearn.metrics import roc_auc_score,confusion_matrix,classification_report"
   ]
  },
  {
   "cell_type": "markdown",
   "id": "9ff46a7c-96b5-43c5-bb93-8ffe7ee055e3",
   "metadata": {},
   "source": [
    "#### Log model - result"
   ]
  },
  {
   "cell_type": "code",
   "execution_count": 53,
   "id": "3b8f7fca-5897-4ff7-aa5e-efafee0efe5b",
   "metadata": {},
   "outputs": [
    {
     "name": "stdout",
     "output_type": "stream",
     "text": [
      "Auc:0.841\n",
      "[[69 13]\n",
      " [16 36]]\n",
      "              precision    recall  f1-score   support\n",
      "\n",
      "           0       0.81      0.84      0.83        82\n",
      "           1       0.73      0.69      0.71        52\n",
      "\n",
      "    accuracy                           0.78       134\n",
      "   macro avg       0.77      0.77      0.77       134\n",
      "weighted avg       0.78      0.78      0.78       134\n",
      "\n"
     ]
    }
   ],
   "source": [
    "auc=roc_auc_score(y_val,log_model.predict_proba(X_val)[:,1])\n",
    "\n",
    "print(f'Auc:{auc:.3f}')\n",
    "print(confusion_matrix(y_val,log_model_pred))\n",
    "print(classification_report(y_val,log_model_pred))"
   ]
  },
  {
   "cell_type": "markdown",
   "id": "409c75ed-edeb-4dac-a6ac-be152d9df608",
   "metadata": {},
   "source": [
    "#### Random Forest - result"
   ]
  },
  {
   "cell_type": "code",
   "execution_count": 55,
   "id": "9d6f9c45-ebd1-4de6-817f-46173e6b3f6d",
   "metadata": {},
   "outputs": [
    {
     "name": "stdout",
     "output_type": "stream",
     "text": [
      "Auc:0.875\n",
      "[[72 10]\n",
      " [12 40]]\n",
      "              precision    recall  f1-score   support\n",
      "\n",
      "           0       0.86      0.88      0.87        82\n",
      "           1       0.80      0.77      0.78        52\n",
      "\n",
      "    accuracy                           0.84       134\n",
      "   macro avg       0.83      0.82      0.83       134\n",
      "weighted avg       0.83      0.84      0.84       134\n",
      "\n"
     ]
    }
   ],
   "source": [
    "auc=roc_auc_score(y_val,rfc.predict_proba(X_val)[:,1])\n",
    "\n",
    "print(f'Auc:{auc:.3f}')\n",
    "print(confusion_matrix(y_val,rfc_pred))\n",
    "print(classification_report(y_val,rfc_pred))"
   ]
  },
  {
   "cell_type": "markdown",
   "id": "4651ce6e-6f95-497c-b896-0462f1b139fb",
   "metadata": {},
   "source": [
    "#### XGB - result"
   ]
  },
  {
   "cell_type": "code",
   "execution_count": 57,
   "id": "a2490521-2745-49b7-90af-d9d2d0f66d36",
   "metadata": {},
   "outputs": [
    {
     "name": "stdout",
     "output_type": "stream",
     "text": [
      "Auc:0.852\n",
      "[[73  9]\n",
      " [14 38]]\n",
      "              precision    recall  f1-score   support\n",
      "\n",
      "           0       0.84      0.89      0.86        82\n",
      "           1       0.81      0.73      0.77        52\n",
      "\n",
      "    accuracy                           0.83       134\n",
      "   macro avg       0.82      0.81      0.82       134\n",
      "weighted avg       0.83      0.83      0.83       134\n",
      "\n"
     ]
    }
   ],
   "source": [
    "auc=roc_auc_score(y_val,xgb.predict_proba(X_val)[:,1])\n",
    "\n",
    "print(f'Auc:{auc:.3f}')\n",
    "print(confusion_matrix(y_val,xgb_pred))\n",
    "print(classification_report(y_val,xgb_pred))"
   ]
  },
  {
   "cell_type": "markdown",
   "id": "201c7d6a-9b78-4a15-beb0-5a1d2687f2f3",
   "metadata": {},
   "source": [
    "Random Forest has the best result, even so I will try to improve it by hiperparameters."
   ]
  },
  {
   "cell_type": "markdown",
   "id": "8f65503d-748c-493d-b2da-587ad1f6a1b1",
   "metadata": {},
   "source": [
    "## Adding more information to dataset\n",
    "I added extra information from Name column like Mrs., Mr. etc. I might help to create better model."
   ]
  },
  {
   "cell_type": "code",
   "execution_count": 59,
   "id": "7c7854d5-2f7a-4ba4-b220-77482bf933e7",
   "metadata": {},
   "outputs": [],
   "source": [
    "data=pd.read_csv('titanic_train.csv')\n",
    "df['title']=data['Name'].str.extract(r'([A-Za-z]+)\\.')"
   ]
  },
  {
   "cell_type": "code",
   "execution_count": 61,
   "id": "d225f3d1-f1fd-46b5-be69-50a71a49d41e",
   "metadata": {},
   "outputs": [
    {
     "data": {
      "text/plain": [
       "title\n",
       "Mr          517\n",
       "Miss        182\n",
       "Mrs         125\n",
       "Master       40\n",
       "Dr            7\n",
       "Rev           6\n",
       "Mlle          2\n",
       "Major         2\n",
       "Col           2\n",
       "Countess      1\n",
       "Capt          1\n",
       "Ms            1\n",
       "Sir           1\n",
       "Lady          1\n",
       "Mme           1\n",
       "Don           1\n",
       "Jonkheer      1\n",
       "Name: count, dtype: int64"
      ]
     },
     "execution_count": 61,
     "metadata": {},
     "output_type": "execute_result"
    }
   ],
   "source": [
    "df['title'].value_counts()"
   ]
  },
  {
   "cell_type": "code",
   "execution_count": 63,
   "id": "7d69bd90-9af6-42de-b39f-3e570bb3371f",
   "metadata": {},
   "outputs": [],
   "source": [
    "df['title']=df['title'].replace(['Mlle','Ms'],'Miss')\n",
    "df['title']=df['title'].replace('Mme','Mrs')\n",
    "df['title']=df['title'].replace(['Capt','Col','Rev','Major'],'Service')\n",
    "df['title']=df['title'].replace(['Don','Lady','Sir','Countess','Jonkheer'],'High status')"
   ]
  },
  {
   "cell_type": "code",
   "execution_count": 65,
   "id": "6379b1bc-1d82-4e6a-9be5-4d74d6945140",
   "metadata": {},
   "outputs": [
    {
     "data": {
      "text/plain": [
       "title\n",
       "Mr             517\n",
       "Miss           185\n",
       "Mrs            126\n",
       "Master          40\n",
       "Service         11\n",
       "Dr               7\n",
       "High status      5\n",
       "Name: count, dtype: int64"
      ]
     },
     "execution_count": 65,
     "metadata": {},
     "output_type": "execute_result"
    }
   ],
   "source": [
    "df['title'].value_counts()"
   ]
  },
  {
   "cell_type": "markdown",
   "id": "75fe8214-d3d5-4ca5-81eb-c1d602d43178",
   "metadata": {},
   "source": [
    "I combined a few titles to get larger groups, so model will generalize better."
   ]
  },
  {
   "cell_type": "code",
   "execution_count": 67,
   "id": "04d484d1-d5a2-435a-a1e5-4cd86067dcd6",
   "metadata": {},
   "outputs": [
    {
     "data": {
      "text/html": [
       "<div>\n",
       "<style scoped>\n",
       "    .dataframe tbody tr th:only-of-type {\n",
       "        vertical-align: middle;\n",
       "    }\n",
       "\n",
       "    .dataframe tbody tr th {\n",
       "        vertical-align: top;\n",
       "    }\n",
       "\n",
       "    .dataframe thead th {\n",
       "        text-align: right;\n",
       "    }\n",
       "</style>\n",
       "<table border=\"1\" class=\"dataframe\">\n",
       "  <thead>\n",
       "    <tr style=\"text-align: right;\">\n",
       "      <th></th>\n",
       "      <th>Survived</th>\n",
       "      <th>Pclass</th>\n",
       "      <th>Age</th>\n",
       "      <th>SibSp</th>\n",
       "      <th>Parch</th>\n",
       "      <th>Fare</th>\n",
       "      <th>family</th>\n",
       "      <th>Sex_male</th>\n",
       "      <th>Embarked_Q</th>\n",
       "      <th>Embarked_S</th>\n",
       "      <th>title_High status</th>\n",
       "      <th>title_Master</th>\n",
       "      <th>title_Miss</th>\n",
       "      <th>title_Mr</th>\n",
       "      <th>title_Mrs</th>\n",
       "      <th>title_Service</th>\n",
       "    </tr>\n",
       "  </thead>\n",
       "  <tbody>\n",
       "    <tr>\n",
       "      <th>0</th>\n",
       "      <td>0</td>\n",
       "      <td>3</td>\n",
       "      <td>22.0</td>\n",
       "      <td>1</td>\n",
       "      <td>0</td>\n",
       "      <td>7.2500</td>\n",
       "      <td>2</td>\n",
       "      <td>True</td>\n",
       "      <td>False</td>\n",
       "      <td>True</td>\n",
       "      <td>False</td>\n",
       "      <td>False</td>\n",
       "      <td>False</td>\n",
       "      <td>True</td>\n",
       "      <td>False</td>\n",
       "      <td>False</td>\n",
       "    </tr>\n",
       "    <tr>\n",
       "      <th>1</th>\n",
       "      <td>1</td>\n",
       "      <td>1</td>\n",
       "      <td>38.0</td>\n",
       "      <td>1</td>\n",
       "      <td>0</td>\n",
       "      <td>71.2833</td>\n",
       "      <td>2</td>\n",
       "      <td>False</td>\n",
       "      <td>False</td>\n",
       "      <td>False</td>\n",
       "      <td>False</td>\n",
       "      <td>False</td>\n",
       "      <td>False</td>\n",
       "      <td>False</td>\n",
       "      <td>True</td>\n",
       "      <td>False</td>\n",
       "    </tr>\n",
       "    <tr>\n",
       "      <th>2</th>\n",
       "      <td>1</td>\n",
       "      <td>3</td>\n",
       "      <td>26.0</td>\n",
       "      <td>0</td>\n",
       "      <td>0</td>\n",
       "      <td>7.9250</td>\n",
       "      <td>1</td>\n",
       "      <td>False</td>\n",
       "      <td>False</td>\n",
       "      <td>True</td>\n",
       "      <td>False</td>\n",
       "      <td>False</td>\n",
       "      <td>True</td>\n",
       "      <td>False</td>\n",
       "      <td>False</td>\n",
       "      <td>False</td>\n",
       "    </tr>\n",
       "    <tr>\n",
       "      <th>3</th>\n",
       "      <td>1</td>\n",
       "      <td>1</td>\n",
       "      <td>35.0</td>\n",
       "      <td>1</td>\n",
       "      <td>0</td>\n",
       "      <td>53.1000</td>\n",
       "      <td>2</td>\n",
       "      <td>False</td>\n",
       "      <td>False</td>\n",
       "      <td>True</td>\n",
       "      <td>False</td>\n",
       "      <td>False</td>\n",
       "      <td>False</td>\n",
       "      <td>False</td>\n",
       "      <td>True</td>\n",
       "      <td>False</td>\n",
       "    </tr>\n",
       "    <tr>\n",
       "      <th>4</th>\n",
       "      <td>0</td>\n",
       "      <td>3</td>\n",
       "      <td>35.0</td>\n",
       "      <td>0</td>\n",
       "      <td>0</td>\n",
       "      <td>8.0500</td>\n",
       "      <td>1</td>\n",
       "      <td>True</td>\n",
       "      <td>False</td>\n",
       "      <td>True</td>\n",
       "      <td>False</td>\n",
       "      <td>False</td>\n",
       "      <td>False</td>\n",
       "      <td>True</td>\n",
       "      <td>False</td>\n",
       "      <td>False</td>\n",
       "    </tr>\n",
       "  </tbody>\n",
       "</table>\n",
       "</div>"
      ],
      "text/plain": [
       "   Survived  Pclass   Age  SibSp  Parch     Fare  family  Sex_male  \\\n",
       "0         0       3  22.0      1      0   7.2500       2      True   \n",
       "1         1       1  38.0      1      0  71.2833       2     False   \n",
       "2         1       3  26.0      0      0   7.9250       1     False   \n",
       "3         1       1  35.0      1      0  53.1000       2     False   \n",
       "4         0       3  35.0      0      0   8.0500       1      True   \n",
       "\n",
       "   Embarked_Q  Embarked_S  title_High status  title_Master  title_Miss  \\\n",
       "0       False        True              False         False       False   \n",
       "1       False       False              False         False       False   \n",
       "2       False        True              False         False        True   \n",
       "3       False        True              False         False       False   \n",
       "4       False        True              False         False       False   \n",
       "\n",
       "   title_Mr  title_Mrs  title_Service  \n",
       "0      True      False          False  \n",
       "1     False       True          False  \n",
       "2     False      False          False  \n",
       "3     False       True          False  \n",
       "4      True      False          False  "
      ]
     },
     "execution_count": 67,
     "metadata": {},
     "output_type": "execute_result"
    }
   ],
   "source": [
    "df=pd.get_dummies(df,columns=['title'],drop_first=True)\n",
    "df.head()"
   ]
  },
  {
   "cell_type": "code",
   "execution_count": 69,
   "id": "596c5b81-204c-4bd9-baf9-afa38d64d951",
   "metadata": {},
   "outputs": [],
   "source": [
    "X=df.drop(columns=['Survived'],axis=1)\n",
    "y=df['Survived']\n",
    "\n",
    "X_train,X_temp,y_train,y_temp=train_test_split(X,y,train_size=0.7,stratify=y,random_state=2025)\n",
    "X_val,X_test,y_val,y_test=train_test_split(X_temp,y_temp,test_size=0.5,stratify=y_temp,random_state=2025)"
   ]
  },
  {
   "cell_type": "markdown",
   "id": "a793a2f7-8a56-40ab-8f55-0804eee6c4bb",
   "metadata": {},
   "source": [
    "## Bayesian opitmization"
   ]
  },
  {
   "cell_type": "code",
   "execution_count": 71,
   "id": "43735f4c-1c4f-4bbe-9558-16533483e38a",
   "metadata": {},
   "outputs": [],
   "source": [
    "import optuna\n",
    "from sklearn.model_selection import cross_val_score"
   ]
  },
  {
   "cell_type": "code",
   "execution_count": 73,
   "id": "58af00fe-b531-4a55-bd79-d02c3c5abdc9",
   "metadata": {},
   "outputs": [],
   "source": [
    "def objective(trial):\n",
    "    params={\n",
    "        'n_estimators':trial.suggest_int('n_estimators',10,500),\n",
    "        'min_samples_leaf':trial.suggest_int('min_samples_leaf',1,20),\n",
    "        'min_samples_split':trial.suggest_int('min_samples_split',2,50),\n",
    "        'max_depth':trial.suggest_int('max_depth',1,30),\n",
    "        'class_weight':trial.suggest_categorical('class_weight',[None,'balanced'])\n",
    "    }\n",
    "    model=RandomForestClassifier(**params,random_state=2025)\n",
    "    score=cross_val_score(model,X_train,y_train,cv=5,scoring='roc_auc',n_jobs=-1).mean()\n",
    "    return score"
   ]
  },
  {
   "cell_type": "code",
   "execution_count": 75,
   "id": "dd880b1d-ac7b-472e-ab21-661694144d67",
   "metadata": {},
   "outputs": [
    {
     "name": "stderr",
     "output_type": "stream",
     "text": [
      "[I 2025-03-01 18:41:13,341] A new study created in memory with name: no-name-e07ee4b4-a529-457b-833d-6c54ee50e75a\n",
      "[I 2025-03-01 18:41:15,418] Trial 0 finished with value: 0.8712221574851056 and parameters: {'n_estimators': 398, 'min_samples_leaf': 1, 'min_samples_split': 25, 'max_depth': 30, 'class_weight': 'balanced'}. Best is trial 0 with value: 0.8712221574851056.\n",
      "[I 2025-03-01 18:41:16,991] Trial 1 finished with value: 0.8566699934071156 and parameters: {'n_estimators': 429, 'min_samples_leaf': 20, 'min_samples_split': 31, 'max_depth': 12, 'class_weight': None}. Best is trial 0 with value: 0.8712221574851056.\n",
      "[I 2025-03-01 18:41:18,539] Trial 2 finished with value: 0.8670191027011436 and parameters: {'n_estimators': 411, 'min_samples_leaf': 9, 'min_samples_split': 11, 'max_depth': 23, 'class_weight': 'balanced'}. Best is trial 0 with value: 0.8712221574851056.\n",
      "[I 2025-03-01 18:41:19,529] Trial 3 finished with value: 0.8676117503017698 and parameters: {'n_estimators': 68, 'min_samples_leaf': 11, 'min_samples_split': 22, 'max_depth': 20, 'class_weight': None}. Best is trial 0 with value: 0.8712221574851056.\n",
      "[I 2025-03-01 18:41:19,680] Trial 4 finished with value: 0.8577711051080312 and parameters: {'n_estimators': 120, 'min_samples_leaf': 19, 'min_samples_split': 43, 'max_depth': 28, 'class_weight': None}. Best is trial 0 with value: 0.8712221574851056.\n",
      "[I 2025-03-01 18:41:19,922] Trial 5 finished with value: 0.8647931255241584 and parameters: {'n_estimators': 202, 'min_samples_leaf': 4, 'min_samples_split': 21, 'max_depth': 4, 'class_weight': None}. Best is trial 0 with value: 0.8712221574851056.\n",
      "[I 2025-03-01 18:41:20,137] Trial 6 finished with value: 0.8620231217550647 and parameters: {'n_estimators': 173, 'min_samples_leaf': 16, 'min_samples_split': 19, 'max_depth': 27, 'class_weight': None}. Best is trial 0 with value: 0.8712221574851056.\n",
      "[I 2025-03-01 18:41:20,452] Trial 7 finished with value: 0.8593913004222354 and parameters: {'n_estimators': 234, 'min_samples_leaf': 14, 'min_samples_split': 41, 'max_depth': 15, 'class_weight': 'balanced'}. Best is trial 0 with value: 0.8712221574851056.\n",
      "[I 2025-03-01 18:41:20,928] Trial 8 finished with value: 0.8609813414702133 and parameters: {'n_estimators': 402, 'min_samples_leaf': 4, 'min_samples_split': 50, 'max_depth': 11, 'class_weight': 'balanced'}. Best is trial 0 with value: 0.8712221574851056.\n",
      "[I 2025-03-01 18:41:21,284] Trial 9 finished with value: 0.8631847086284378 and parameters: {'n_estimators': 292, 'min_samples_leaf': 14, 'min_samples_split': 2, 'max_depth': 15, 'class_weight': None}. Best is trial 0 with value: 0.8712221574851056.\n",
      "[I 2025-03-01 18:41:21,687] Trial 10 finished with value: 0.8695291707872194 and parameters: {'n_estimators': 311, 'min_samples_leaf': 1, 'min_samples_split': 31, 'max_depth': 30, 'class_weight': 'balanced'}. Best is trial 0 with value: 0.8712221574851056.\n",
      "[I 2025-03-01 18:41:22,092] Trial 11 finished with value: 0.8697111719700606 and parameters: {'n_estimators': 306, 'min_samples_leaf': 1, 'min_samples_split': 32, 'max_depth': 30, 'class_weight': 'balanced'}. Best is trial 0 with value: 0.8712221574851056.\n",
      "[I 2025-03-01 18:41:22,731] Trial 12 finished with value: 0.8691009362744385 and parameters: {'n_estimators': 494, 'min_samples_leaf': 1, 'min_samples_split': 30, 'max_depth': 23, 'class_weight': 'balanced'}. Best is trial 0 with value: 0.8712221574851056.\n",
      "[I 2025-03-01 18:41:23,165] Trial 13 finished with value: 0.8633079313370468 and parameters: {'n_estimators': 342, 'min_samples_leaf': 6, 'min_samples_split': 40, 'max_depth': 24, 'class_weight': 'balanced'}. Best is trial 0 with value: 0.8712221574851056.\n",
      "[I 2025-03-01 18:41:23,632] Trial 14 finished with value: 0.8688382813295327 and parameters: {'n_estimators': 356, 'min_samples_leaf': 7, 'min_samples_split': 11, 'max_depth': 30, 'class_weight': 'balanced'}. Best is trial 0 with value: 0.8712221574851056.\n",
      "[I 2025-03-01 18:41:24,213] Trial 15 finished with value: 0.8449588899109475 and parameters: {'n_estimators': 476, 'min_samples_leaf': 4, 'min_samples_split': 36, 'max_depth': 1, 'class_weight': 'balanced'}. Best is trial 0 with value: 0.8712221574851056.\n",
      "[I 2025-03-01 18:41:24,565] Trial 16 finished with value: 0.8696181338258606 and parameters: {'n_estimators': 261, 'min_samples_leaf': 1, 'min_samples_split': 26, 'max_depth': 20, 'class_weight': 'balanced'}. Best is trial 0 with value: 0.8712221574851056.\n",
      "[I 2025-03-01 18:41:25,045] Trial 17 finished with value: 0.8672558451253861 and parameters: {'n_estimators': 377, 'min_samples_leaf': 7, 'min_samples_split': 17, 'max_depth': 26, 'class_weight': 'balanced'}. Best is trial 0 with value: 0.8712221574851056.\n",
      "[I 2025-03-01 18:41:25,116] Trial 18 finished with value: 0.871011335156072 and parameters: {'n_estimators': 30, 'min_samples_leaf': 3, 'min_samples_split': 26, 'max_depth': 21, 'class_weight': 'balanced'}. Best is trial 0 with value: 0.8712221574851056.\n",
      "[I 2025-03-01 18:41:25,187] Trial 19 finished with value: 0.8675714612934659 and parameters: {'n_estimators': 33, 'min_samples_leaf': 10, 'min_samples_split': 13, 'max_depth': 19, 'class_weight': 'balanced'}. Best is trial 0 with value: 0.8712221574851056.\n",
      "[I 2025-03-01 18:41:25,385] Trial 20 finished with value: 0.8697231927740046 and parameters: {'n_estimators': 132, 'min_samples_leaf': 3, 'min_samples_split': 26, 'max_depth': 9, 'class_weight': 'balanced'}. Best is trial 0 with value: 0.8712221574851056.\n",
      "[I 2025-03-01 18:41:25,566] Trial 21 finished with value: 0.8688727379376875 and parameters: {'n_estimators': 112, 'min_samples_leaf': 3, 'min_samples_split': 26, 'max_depth': 6, 'class_weight': 'balanced'}. Best is trial 0 with value: 0.8712221574851056.\n",
      "[I 2025-03-01 18:41:25,640] Trial 22 finished with value: 0.8686466150264442 and parameters: {'n_estimators': 31, 'min_samples_leaf': 3, 'min_samples_split': 25, 'max_depth': 9, 'class_weight': 'balanced'}. Best is trial 0 with value: 0.8712221574851056.\n",
      "[I 2025-03-01 18:41:25,838] Trial 23 finished with value: 0.8719357630051918 and parameters: {'n_estimators': 133, 'min_samples_leaf': 5, 'min_samples_split': 16, 'max_depth': 17, 'class_weight': 'balanced'}. Best is trial 23 with value: 0.8719357630051918.\n",
      "[I 2025-03-01 18:41:25,893] Trial 24 finished with value: 0.8658465100129433 and parameters: {'n_estimators': 10, 'min_samples_leaf': 6, 'min_samples_split': 5, 'max_depth': 18, 'class_weight': 'balanced'}. Best is trial 23 with value: 0.8719357630051918.\n",
      "[I 2025-03-01 18:41:26,047] Trial 25 finished with value: 0.8711154700096471 and parameters: {'n_estimators': 80, 'min_samples_leaf': 5, 'min_samples_split': 15, 'max_depth': 16, 'class_weight': 'balanced'}. Best is trial 23 with value: 0.8719357630051918.\n",
      "[I 2025-03-01 18:41:26,181] Trial 26 finished with value: 0.8684161897732727 and parameters: {'n_estimators': 83, 'min_samples_leaf': 8, 'min_samples_split': 16, 'max_depth': 17, 'class_weight': 'balanced'}. Best is trial 23 with value: 0.8719357630051918.\n",
      "[I 2025-03-01 18:41:26,452] Trial 27 finished with value: 0.8699278191246975 and parameters: {'n_estimators': 187, 'min_samples_leaf': 6, 'min_samples_split': 8, 'max_depth': 14, 'class_weight': 'balanced'}. Best is trial 23 with value: 0.8719357630051918.\n",
      "[I 2025-03-01 18:41:26,679] Trial 28 finished with value: 0.8684046385911588 and parameters: {'n_estimators': 166, 'min_samples_leaf': 11, 'min_samples_split': 15, 'max_depth': 13, 'class_weight': 'balanced'}. Best is trial 23 with value: 0.8719357630051918.\n",
      "[I 2025-03-01 18:41:27,263] Trial 29 finished with value: 0.8698268352821124 and parameters: {'n_estimators': 461, 'min_samples_leaf': 5, 'min_samples_split': 22, 'max_depth': 11, 'class_weight': None}. Best is trial 23 with value: 0.8719357630051918.\n",
      "[I 2025-03-01 18:41:27,564] Trial 30 finished with value: 0.8688193904126855 and parameters: {'n_estimators': 229, 'min_samples_leaf': 9, 'min_samples_split': 8, 'max_depth': 17, 'class_weight': 'balanced'}. Best is trial 23 with value: 0.8719357630051918.\n",
      "[I 2025-03-01 18:41:27,714] Trial 31 finished with value: 0.8742926813528017 and parameters: {'n_estimators': 70, 'min_samples_leaf': 2, 'min_samples_split': 19, 'max_depth': 25, 'class_weight': 'balanced'}. Best is trial 31 with value: 0.8742926813528017.\n",
      "[I 2025-03-01 18:41:27,874] Trial 32 finished with value: 0.872772212506605 and parameters: {'n_estimators': 84, 'min_samples_leaf': 2, 'min_samples_split': 19, 'max_depth': 25, 'class_weight': 'balanced'}. Best is trial 31 with value: 0.8742926813528017.\n",
      "[I 2025-03-01 18:41:28,090] Trial 33 finished with value: 0.8734958770233126 and parameters: {'n_estimators': 149, 'min_samples_leaf': 2, 'min_samples_split': 20, 'max_depth': 25, 'class_weight': 'balanced'}. Best is trial 31 with value: 0.8742926813528017.\n",
      "[I 2025-03-01 18:41:28,314] Trial 34 finished with value: 0.8726947173300756 and parameters: {'n_estimators': 142, 'min_samples_leaf': 2, 'min_samples_split': 19, 'max_depth': 25, 'class_weight': 'balanced'}. Best is trial 31 with value: 0.8742926813528017.\n",
      "[I 2025-03-01 18:41:28,471] Trial 35 finished with value: 0.8729899276721784 and parameters: {'n_estimators': 98, 'min_samples_leaf': 2, 'min_samples_split': 20, 'max_depth': 25, 'class_weight': 'balanced'}. Best is trial 31 with value: 0.8742926813528017.\n",
      "[I 2025-03-01 18:41:28,630] Trial 36 finished with value: 0.8732656411337822 and parameters: {'n_estimators': 96, 'min_samples_leaf': 2, 'min_samples_split': 22, 'max_depth': 22, 'class_weight': 'balanced'}. Best is trial 31 with value: 0.8742926813528017.\n",
      "[I 2025-03-01 18:41:28,734] Trial 37 finished with value: 0.8718739850108831 and parameters: {'n_estimators': 61, 'min_samples_leaf': 2, 'min_samples_split': 22, 'max_depth': 22, 'class_weight': None}. Best is trial 31 with value: 0.8742926813528017.\n",
      "[I 2025-03-01 18:41:28,889] Trial 38 finished with value: 0.871941534808976 and parameters: {'n_estimators': 98, 'min_samples_leaf': 2, 'min_samples_split': 23, 'max_depth': 28, 'class_weight': None}. Best is trial 31 with value: 0.8742926813528017.\n",
      "[I 2025-03-01 18:41:29,109] Trial 39 finished with value: 0.8588541742412122 and parameters: {'n_estimators': 161, 'min_samples_leaf': 18, 'min_samples_split': 29, 'max_depth': 28, 'class_weight': 'balanced'}. Best is trial 31 with value: 0.8742926813528017.\n",
      "[I 2025-03-01 18:41:29,228] Trial 40 finished with value: 0.8636950966633219 and parameters: {'n_estimators': 60, 'min_samples_leaf': 4, 'min_samples_split': 34, 'max_depth': 23, 'class_weight': 'balanced'}. Best is trial 31 with value: 0.8742926813528017.\n",
      "[I 2025-03-01 18:41:29,384] Trial 41 finished with value: 0.873518880918447 and parameters: {'n_estimators': 102, 'min_samples_leaf': 2, 'min_samples_split': 19, 'max_depth': 26, 'class_weight': 'balanced'}. Best is trial 31 with value: 0.8742926813528017.\n",
      "[I 2025-03-01 18:41:29,543] Trial 42 finished with value: 0.8623038268422507 and parameters: {'n_estimators': 104, 'min_samples_leaf': 13, 'min_samples_split': 19, 'max_depth': 26, 'class_weight': 'balanced'}. Best is trial 31 with value: 0.8742926813528017.\n",
      "[I 2025-03-01 18:41:29,839] Trial 43 finished with value: 0.873217686685282 and parameters: {'n_estimators': 206, 'min_samples_leaf': 2, 'min_samples_split': 12, 'max_depth': 21, 'class_weight': 'balanced'}. Best is trial 31 with value: 0.8742926813528017.\n",
      "[I 2025-03-01 18:41:30,139] Trial 44 finished with value: 0.8731386765996229 and parameters: {'n_estimators': 216, 'min_samples_leaf': 1, 'min_samples_split': 12, 'max_depth': 21, 'class_weight': 'balanced'}. Best is trial 31 with value: 0.8742926813528017.\n",
      "[I 2025-03-01 18:41:30,491] Trial 45 finished with value: 0.8745332261989598 and parameters: {'n_estimators': 263, 'min_samples_leaf': 4, 'min_samples_split': 10, 'max_depth': 27, 'class_weight': None}. Best is trial 45 with value: 0.8745332261989598.\n",
      "[I 2025-03-01 18:41:30,829] Trial 46 finished with value: 0.8748381925558577 and parameters: {'n_estimators': 250, 'min_samples_leaf': 4, 'min_samples_split': 7, 'max_depth': 28, 'class_weight': None}. Best is trial 46 with value: 0.8748381925558577.\n",
      "[I 2025-03-01 18:41:31,204] Trial 47 finished with value: 0.8754941179108313 and parameters: {'n_estimators': 261, 'min_samples_leaf': 4, 'min_samples_split': 8, 'max_depth': 28, 'class_weight': None}. Best is trial 47 with value: 0.8754941179108313.\n",
      "[I 2025-03-01 18:41:31,571] Trial 48 finished with value: 0.8756638028824479 and parameters: {'n_estimators': 271, 'min_samples_leaf': 4, 'min_samples_split': 2, 'max_depth': 29, 'class_weight': None}. Best is trial 48 with value: 0.8756638028824479.\n",
      "[I 2025-03-01 18:41:31,942] Trial 49 finished with value: 0.8705662321301318 and parameters: {'n_estimators': 268, 'min_samples_leaf': 7, 'min_samples_split': 2, 'max_depth': 29, 'class_weight': None}. Best is trial 48 with value: 0.8756638028824479.\n",
      "[I 2025-03-01 18:41:32,346] Trial 50 finished with value: 0.8760430300848835 and parameters: {'n_estimators': 284, 'min_samples_leaf': 4, 'min_samples_split': 5, 'max_depth': 27, 'class_weight': None}. Best is trial 50 with value: 0.8760430300848835.\n",
      "[I 2025-03-01 18:41:32,733] Trial 51 finished with value: 0.8763714320860178 and parameters: {'n_estimators': 288, 'min_samples_leaf': 4, 'min_samples_split': 6, 'max_depth': 27, 'class_weight': None}. Best is trial 51 with value: 0.8763714320860178.\n",
      "[I 2025-03-01 18:41:33,114] Trial 52 finished with value: 0.8732174745980036 and parameters: {'n_estimators': 285, 'min_samples_leaf': 5, 'min_samples_split': 5, 'max_depth': 29, 'class_weight': None}. Best is trial 51 with value: 0.8763714320860178.\n",
      "[I 2025-03-01 18:41:33,558] Trial 53 finished with value: 0.8768622777931288 and parameters: {'n_estimators': 322, 'min_samples_leaf': 4, 'min_samples_split': 6, 'max_depth': 27, 'class_weight': None}. Best is trial 53 with value: 0.8768622777931288.\n",
      "[I 2025-03-01 18:41:34,031] Trial 54 finished with value: 0.8713983414168883 and parameters: {'n_estimators': 335, 'min_samples_leaf': 6, 'min_samples_split': 5, 'max_depth': 27, 'class_weight': None}. Best is trial 53 with value: 0.8768622777931288.\n",
      "[I 2025-03-01 18:41:34,462] Trial 55 finished with value: 0.8763734014678863 and parameters: {'n_estimators': 319, 'min_samples_leaf': 4, 'min_samples_split': 2, 'max_depth': 29, 'class_weight': None}. Best is trial 53 with value: 0.8768622777931288.\n",
      "[I 2025-03-01 18:41:34,905] Trial 56 finished with value: 0.8678513180315394 and parameters: {'n_estimators': 311, 'min_samples_leaf': 8, 'min_samples_split': 4, 'max_depth': 30, 'class_weight': None}. Best is trial 53 with value: 0.8768622777931288.\n",
      "[I 2025-03-01 18:41:35,422] Trial 57 finished with value: 0.8734141552503114 and parameters: {'n_estimators': 381, 'min_samples_leaf': 5, 'min_samples_split': 3, 'max_depth': 29, 'class_weight': None}. Best is trial 53 with value: 0.8768622777931288.\n",
      "[I 2025-03-01 18:41:35,876] Trial 58 finished with value: 0.8747241047493007 and parameters: {'n_estimators': 335, 'min_samples_leaf': 3, 'min_samples_split': 7, 'max_depth': 27, 'class_weight': None}. Best is trial 53 with value: 0.8768622777931288.\n",
      "[I 2025-03-01 18:41:36,292] Trial 59 finished with value: 0.8701267569916087 and parameters: {'n_estimators': 282, 'min_samples_leaf': 7, 'min_samples_split': 9, 'max_depth': 29, 'class_weight': None}. Best is trial 53 with value: 0.8768622777931288.\n",
      "[I 2025-03-01 18:41:36,699] Trial 60 finished with value: 0.8762072310854506 and parameters: {'n_estimators': 300, 'min_samples_leaf': 4, 'min_samples_split': 2, 'max_depth': 24, 'class_weight': None}. Best is trial 53 with value: 0.8768622777931288.\n",
      "[I 2025-03-01 18:41:37,115] Trial 61 finished with value: 0.87571171945822 and parameters: {'n_estimators': 308, 'min_samples_leaf': 4, 'min_samples_split': 2, 'max_depth': 24, 'class_weight': None}. Best is trial 53 with value: 0.8768622777931288.\n",
      "[I 2025-03-01 18:41:37,553] Trial 62 finished with value: 0.8758222472283222 and parameters: {'n_estimators': 312, 'min_samples_leaf': 4, 'min_samples_split': 3, 'max_depth': 23, 'class_weight': None}. Best is trial 53 with value: 0.8768622777931288.\n",
      "[I 2025-03-01 18:41:37,962] Trial 63 finished with value: 0.8711275059626823 and parameters: {'n_estimators': 299, 'min_samples_leaf': 6, 'min_samples_split': 6, 'max_depth': 24, 'class_weight': None}. Best is trial 53 with value: 0.8768622777931288.\n",
      "[I 2025-03-01 18:41:38,439] Trial 64 finished with value: 0.875239446537039 and parameters: {'n_estimators': 358, 'min_samples_leaf': 3, 'min_samples_split': 4, 'max_depth': 24, 'class_weight': None}. Best is trial 53 with value: 0.8768622777931288.\n",
      "[I 2025-03-01 18:41:38,866] Trial 65 finished with value: 0.8731659373894116 and parameters: {'n_estimators': 315, 'min_samples_leaf': 5, 'min_samples_split': 2, 'max_depth': 23, 'class_weight': None}. Best is trial 53 with value: 0.8768622777931288.\n",
      "[I 2025-03-01 18:41:39,318] Trial 66 finished with value: 0.871288419610438 and parameters: {'n_estimators': 328, 'min_samples_leaf': 6, 'min_samples_split': 6, 'max_depth': 27, 'class_weight': None}. Best is trial 53 with value: 0.8768622777931288.\n",
      "[I 2025-03-01 18:41:39,802] Trial 67 finished with value: 0.8754581994153663 and parameters: {'n_estimators': 353, 'min_samples_leaf': 3, 'min_samples_split': 4, 'max_depth': 24, 'class_weight': None}. Best is trial 53 with value: 0.8768622777931288.\n",
      "[I 2025-03-01 18:41:40,336] Trial 68 finished with value: 0.8729166742412124 and parameters: {'n_estimators': 414, 'min_samples_leaf': 5, 'min_samples_split': 10, 'max_depth': 19, 'class_weight': None}. Best is trial 53 with value: 0.8768622777931288.\n",
      "[I 2025-03-01 18:41:40,648] Trial 69 finished with value: 0.8618788266604616 and parameters: {'n_estimators': 238, 'min_samples_leaf': 8, 'min_samples_split': 47, 'max_depth': 26, 'class_weight': None}. Best is trial 53 with value: 0.8768622777931288.\n",
      "[I 2025-03-01 18:41:41,155] Trial 70 finished with value: 0.8755118726458312 and parameters: {'n_estimators': 373, 'min_samples_leaf': 3, 'min_samples_split': 3, 'max_depth': 22, 'class_weight': None}. Best is trial 53 with value: 0.8768622777931288.\n",
      "[I 2025-03-01 18:41:41,581] Trial 71 finished with value: 0.8763734014678863 and parameters: {'n_estimators': 319, 'min_samples_leaf': 4, 'min_samples_split': 2, 'max_depth': 26, 'class_weight': None}. Best is trial 53 with value: 0.8768622777931288.\n",
      "[I 2025-03-01 18:41:42,006] Trial 72 finished with value: 0.8763158349209581 and parameters: {'n_estimators': 324, 'min_samples_leaf': 4, 'min_samples_split': 6, 'max_depth': 26, 'class_weight': None}. Best is trial 53 with value: 0.8768622777931288.\n",
      "[I 2025-03-01 18:41:42,379] Trial 73 finished with value: 0.8761519672003996 and parameters: {'n_estimators': 283, 'min_samples_leaf': 4, 'min_samples_split': 6, 'max_depth': 26, 'class_weight': None}. Best is trial 53 with value: 0.8768622777931288.\n",
      "[I 2025-03-01 18:41:42,806] Trial 74 finished with value: 0.8731426077888145 and parameters: {'n_estimators': 323, 'min_samples_leaf': 5, 'min_samples_split': 6, 'max_depth': 30, 'class_weight': None}. Best is trial 53 with value: 0.8768622777931288.\n",
      "[I 2025-03-01 18:41:43,220] Trial 75 finished with value: 0.8735726677670966 and parameters: {'n_estimators': 291, 'min_samples_leaf': 3, 'min_samples_split': 9, 'max_depth': 26, 'class_weight': None}. Best is trial 53 with value: 0.8768622777931288.\n",
      "[I 2025-03-01 18:41:43,676] Trial 76 finished with value: 0.8716175336188634 and parameters: {'n_estimators': 345, 'min_samples_leaf': 6, 'min_samples_split': 7, 'max_depth': 27, 'class_weight': None}. Best is trial 53 with value: 0.8768622777931288.\n",
      "[I 2025-03-01 18:41:44,000] Trial 77 finished with value: 0.8708145105873969 and parameters: {'n_estimators': 246, 'min_samples_leaf': 7, 'min_samples_split': 5, 'max_depth': 26, 'class_weight': None}. Best is trial 53 with value: 0.8768622777931288.\n",
      "[I 2025-03-01 18:41:44,415] Trial 78 finished with value: 0.8730946003184945 and parameters: {'n_estimators': 298, 'min_samples_leaf': 1, 'min_samples_split': 10, 'max_depth': 28, 'class_weight': None}. Best is trial 53 with value: 0.8768622777931288.\n",
      "[I 2025-03-01 18:41:44,790] Trial 79 finished with value: 0.8762076704090982 and parameters: {'n_estimators': 281, 'min_samples_leaf': 4, 'min_samples_split': 4, 'max_depth': 25, 'class_weight': None}. Best is trial 53 with value: 0.8768622777931288.\n",
      "[I 2025-03-01 18:41:45,091] Trial 80 finished with value: 0.8748062355477669 and parameters: {'n_estimators': 223, 'min_samples_leaf': 3, 'min_samples_split': 13, 'max_depth': 25, 'class_weight': None}. Best is trial 53 with value: 0.8768622777931288.\n",
      "[I 2025-03-01 18:41:45,482] Trial 81 finished with value: 0.8731626500366001 and parameters: {'n_estimators': 277, 'min_samples_leaf': 5, 'min_samples_split': 4, 'max_depth': 25, 'class_weight': None}. Best is trial 53 with value: 0.8768622777931288.\n",
      "[I 2025-03-01 18:41:45,986] Trial 82 finished with value: 0.8756603488896323 and parameters: {'n_estimators': 367, 'min_samples_leaf': 4, 'min_samples_split': 6, 'max_depth': 27, 'class_weight': None}. Best is trial 53 with value: 0.8768622777931288.\n",
      "[I 2025-03-01 18:41:46,411] Trial 83 finished with value: 0.8643708521788028 and parameters: {'n_estimators': 325, 'min_samples_leaf': 13, 'min_samples_split': 8, 'max_depth': 26, 'class_weight': None}. Best is trial 53 with value: 0.8768622777931288.\n",
      "[I 2025-03-01 18:41:46,809] Trial 84 finished with value: 0.8759332143220722 and parameters: {'n_estimators': 298, 'min_samples_leaf': 4, 'min_samples_split': 3, 'max_depth': 28, 'class_weight': None}. Best is trial 53 with value: 0.8768622777931288.\n",
      "[I 2025-03-01 18:41:47,185] Trial 85 finished with value: 0.873324987698938 and parameters: {'n_estimators': 284, 'min_samples_leaf': 5, 'min_samples_split': 4, 'max_depth': 30, 'class_weight': None}. Best is trial 53 with value: 0.8768622777931288.\n",
      "[I 2025-03-01 18:41:47,653] Trial 86 finished with value: 0.8581893790932845 and parameters: {'n_estimators': 393, 'min_samples_leaf': 3, 'min_samples_split': 7, 'max_depth': 2, 'class_weight': None}. Best is trial 53 with value: 0.8768622777931288.\n",
      "[I 2025-03-01 18:41:47,984] Trial 87 finished with value: 0.8595889657654776 and parameters: {'n_estimators': 255, 'min_samples_leaf': 16, 'min_samples_split': 5, 'max_depth': 23, 'class_weight': None}. Best is trial 53 with value: 0.8768622777931288.\n",
      "[I 2025-03-01 18:41:48,432] Trial 88 finished with value: 0.8560256874051667 and parameters: {'n_estimators': 349, 'min_samples_leaf': 20, 'min_samples_split': 9, 'max_depth': 27, 'class_weight': None}. Best is trial 53 with value: 0.8768622777931288.\n",
      "[I 2025-03-01 18:41:48,797] Trial 89 finished with value: 0.8719812481518108 and parameters: {'n_estimators': 273, 'min_samples_leaf': 4, 'min_samples_split': 11, 'max_depth': 25, 'class_weight': None}. Best is trial 53 with value: 0.8768622777931288.\n",
      "[I 2025-03-01 18:41:49,215] Trial 90 finished with value: 0.8712375944091371 and parameters: {'n_estimators': 319, 'min_samples_leaf': 6, 'min_samples_split': 3, 'max_depth': 28, 'class_weight': None}. Best is trial 53 with value: 0.8768622777931288.\n",
      "[I 2025-03-01 18:41:49,612] Trial 91 finished with value: 0.8759332143220722 and parameters: {'n_estimators': 292, 'min_samples_leaf': 4, 'min_samples_split': 3, 'max_depth': 29, 'class_weight': None}. Best is trial 53 with value: 0.8768622777931288.\n",
      "[I 2025-03-01 18:41:50,015] Trial 92 finished with value: 0.8757681346742097 and parameters: {'n_estimators': 302, 'min_samples_leaf': 4, 'min_samples_split': 2, 'max_depth': 26, 'class_weight': None}. Best is trial 53 with value: 0.8768622777931288.\n",
      "[I 2025-03-01 18:41:50,463] Trial 93 finished with value: 0.8730873439037632 and parameters: {'n_estimators': 333, 'min_samples_leaf': 5, 'min_samples_split': 6, 'max_depth': 28, 'class_weight': None}. Best is trial 53 with value: 0.8768622777931288.\n",
      "[I 2025-03-01 18:41:50,853] Trial 94 finished with value: 0.8647924665386872 and parameters: {'n_estimators': 298, 'min_samples_leaf': 3, 'min_samples_split': 38, 'max_depth': 27, 'class_weight': None}. Best is trial 53 with value: 0.8768622777931288.\n",
      "[I 2025-03-01 18:41:51,247] Trial 95 finished with value: 0.8729996003669716 and parameters: {'n_estimators': 279, 'min_samples_leaf': 5, 'min_samples_split': 4, 'max_depth': 28, 'class_weight': None}. Best is trial 53 with value: 0.8768622777931288.\n",
      "[I 2025-03-01 18:41:51,715] Trial 96 finished with value: 0.875429764571002 and parameters: {'n_estimators': 336, 'min_samples_leaf': 3, 'min_samples_split': 8, 'max_depth': 24, 'class_weight': None}. Best is trial 53 with value: 0.8768622777931288.\n",
      "[I 2025-03-01 18:41:52,050] Trial 97 finished with value: 0.8746764002608067 and parameters: {'n_estimators': 241, 'min_samples_leaf': 4, 'min_samples_split': 5, 'max_depth': 29, 'class_weight': None}. Best is trial 53 with value: 0.8768622777931288.\n",
      "[I 2025-03-01 18:41:52,416] Trial 98 finished with value: 0.8755500938031734 and parameters: {'n_estimators': 260, 'min_samples_leaf': 4, 'min_samples_split': 7, 'max_depth': 26, 'class_weight': None}. Best is trial 53 with value: 0.8768622777931288.\n",
      "[I 2025-03-01 18:41:52,949] Trial 99 finished with value: 0.8608959005952986 and parameters: {'n_estimators': 364, 'min_samples_leaf': 1, 'min_samples_split': 2, 'max_depth': 25, 'class_weight': None}. Best is trial 53 with value: 0.8768622777931288.\n"
     ]
    },
    {
     "name": "stdout",
     "output_type": "stream",
     "text": [
      "Best params {'n_estimators': 322, 'min_samples_leaf': 4, 'min_samples_split': 6, 'max_depth': 27, 'class_weight': None}\n",
      "Score 0.877\n"
     ]
    }
   ],
   "source": [
    "study=optuna.create_study(direction='maximize')\n",
    "study.optimize(objective,n_trials=100)\n",
    "\n",
    "best_params=study.best_params\n",
    "print('Best params',best_params)\n",
    "print(f'Score {study.best_value:.3f}')"
   ]
  },
  {
   "cell_type": "code",
   "execution_count": 77,
   "id": "d7be27e4-167e-4d08-9783-e21215e310f9",
   "metadata": {},
   "outputs": [],
   "source": [
    "final_model=RandomForestClassifier(**best_params,random_state=2025)\n",
    "final_model.fit(X_train,y_train)\n",
    "final_model_pred=final_model.predict(X_val)"
   ]
  },
  {
   "cell_type": "code",
   "execution_count": 79,
   "id": "114bae27-5ead-45ae-a08e-0bd33f6a4573",
   "metadata": {},
   "outputs": [
    {
     "name": "stdout",
     "output_type": "stream",
     "text": [
      "Auc:0.874\n",
      "[[75  7]\n",
      " [15 37]]\n",
      "              precision    recall  f1-score   support\n",
      "\n",
      "           0       0.83      0.91      0.87        82\n",
      "           1       0.84      0.71      0.77        52\n",
      "\n",
      "    accuracy                           0.84       134\n",
      "   macro avg       0.84      0.81      0.82       134\n",
      "weighted avg       0.84      0.84      0.83       134\n",
      "\n"
     ]
    }
   ],
   "source": [
    "auc=roc_auc_score(y_val,final_model.predict_proba(X_val)[:,1])\n",
    "\n",
    "print(f'Auc:{auc:.3f}')\n",
    "print(confusion_matrix(y_val,final_model_pred))\n",
    "print(classification_report(y_val,final_model_pred))"
   ]
  },
  {
   "cell_type": "code",
   "execution_count": 81,
   "id": "c3e4089e-b2e6-4b1a-b32b-3539386a5ffc",
   "metadata": {},
   "outputs": [
    {
     "name": "stdout",
     "output_type": "stream",
     "text": [
      "New threshold:0.41\n",
      "[[73  9]\n",
      " [12 40]]\n",
      "              precision    recall  f1-score   support\n",
      "\n",
      "           0       0.86      0.89      0.87        82\n",
      "           1       0.82      0.77      0.79        52\n",
      "\n",
      "    accuracy                           0.84       134\n",
      "   macro avg       0.84      0.83      0.83       134\n",
      "weighted avg       0.84      0.84      0.84       134\n",
      "\n"
     ]
    }
   ],
   "source": [
    "from sklearn.metrics import roc_curve\n",
    "\n",
    "y_val_proba=final_model.predict_proba(X_val)[:, 1] \n",
    "\n",
    "fpr,tpr,thresholds=roc_curve(y_val, y_val_proba)\n",
    "\n",
    "optimal_idx=(tpr-fpr).argmax()\n",
    "optimal_threshold=thresholds[optimal_idx]\n",
    "\n",
    "print(f'New threshold:{optimal_threshold:.2f}')\n",
    "\n",
    "y_val_adjusted=(y_val_proba>=optimal_threshold).astype(int)\n",
    "\n",
    "print(confusion_matrix(y_val,y_val_adjusted))\n",
    "print(classification_report(y_val,y_val_adjusted))"
   ]
  },
  {
   "cell_type": "markdown",
   "id": "13ecd6cf-c555-47fd-83b1-e2fb1c62be7a",
   "metadata": {},
   "source": [
    "After optimalization model is similar to basic rfc model. However the basic rfc model was built on dataset without title from the name column. I will try to build new basic model based on the final dataset. "
   ]
  },
  {
   "cell_type": "code",
   "execution_count": 83,
   "id": "f7bcc168-dee7-4db8-b2de-f6d2c3093c74",
   "metadata": {},
   "outputs": [
    {
     "name": "stdout",
     "output_type": "stream",
     "text": [
      "Auc:0.882\n",
      "[[76  6]\n",
      " [13 39]]\n",
      "              precision    recall  f1-score   support\n",
      "\n",
      "           0       0.85      0.93      0.89        82\n",
      "           1       0.87      0.75      0.80        52\n",
      "\n",
      "    accuracy                           0.86       134\n",
      "   macro avg       0.86      0.84      0.85       134\n",
      "weighted avg       0.86      0.86      0.86       134\n",
      "\n"
     ]
    }
   ],
   "source": [
    "final_basic_rfc=RandomForestClassifier(random_state=2025)\n",
    "final_basic_rfc.fit(X_train,y_train)\n",
    "final_basic_rfc_pred=final_basic_rfc.predict(X_val)\n",
    "\n",
    "auc=roc_auc_score(y_val,final_basic_rfc.predict_proba(X_val)[:,1])\n",
    "\n",
    "print(f'Auc:{auc:.3f}')\n",
    "print(confusion_matrix(y_val,final_basic_rfc_pred))\n",
    "print(classification_report(y_val,final_basic_rfc_pred))"
   ]
  },
  {
   "cell_type": "markdown",
   "id": "8c3567d6-c678-473e-9e92-70053a04e0f7",
   "metadata": {},
   "source": [
    "As we can see, final basic rfc model is a little better than optimized model."
   ]
  },
  {
   "cell_type": "markdown",
   "id": "4562c17c-5617-426e-ae9f-a7e9f4793f00",
   "metadata": {},
   "source": [
    "## Final testing"
   ]
  },
  {
   "cell_type": "code",
   "execution_count": 85,
   "id": "17ba7893-3b90-4bc2-9b9f-037d0c678096",
   "metadata": {},
   "outputs": [
    {
     "name": "stdout",
     "output_type": "stream",
     "text": [
      "Auc:0.882\n",
      "[[71 12]\n",
      " [15 36]]\n",
      "              precision    recall  f1-score   support\n",
      "\n",
      "           0       0.83      0.86      0.84        83\n",
      "           1       0.75      0.71      0.73        51\n",
      "\n",
      "    accuracy                           0.80       134\n",
      "   macro avg       0.79      0.78      0.78       134\n",
      "weighted avg       0.80      0.80      0.80       134\n",
      "\n"
     ]
    }
   ],
   "source": [
    "test=final_basic_rfc.predict(X_test)\n",
    "test_proba=final_basic_rfc.predict_proba(X_test)[:,1]\n",
    "auc_test=roc_auc_score(y_test,test_proba)\n",
    "\n",
    "print(f'Auc:{auc:.3f}')\n",
    "print(confusion_matrix(y_test,test))\n",
    "print(classification_report(y_test,test))"
   ]
  }
 ],
 "metadata": {
  "kernelspec": {
   "display_name": "Python [conda env:base] *",
   "language": "python",
   "name": "conda-base-py"
  },
  "language_info": {
   "codemirror_mode": {
    "name": "ipython",
    "version": 3
   },
   "file_extension": ".py",
   "mimetype": "text/x-python",
   "name": "python",
   "nbconvert_exporter": "python",
   "pygments_lexer": "ipython3",
   "version": "3.12.3"
  }
 },
 "nbformat": 4,
 "nbformat_minor": 5
}
